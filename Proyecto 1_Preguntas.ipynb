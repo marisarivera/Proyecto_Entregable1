{
 "cells": [
  {
   "cell_type": "markdown",
   "metadata": {},
   "source": [
    "# Proyecto 1"
   ]
  },
  {
   "cell_type": "markdown",
   "metadata": {},
   "source": [
    "#### 1. ¿Qué características tienen los grupos a los que se les cotiza los seguros más baratos?"
   ]
  },
  {
   "cell_type": "markdown",
   "metadata": {},
   "source": [
    ">**Respuesta:** \n",
    ">>Edad: 30 Años <br>\n",
    ">>Estado: Soltero"
   ]
  },
  {
   "cell_type": "markdown",
   "metadata": {},
   "source": [
    "#### 2. ¿Qué tan probable es que se compre un seguro después de la k-ésima cotización?\n",
    ">**Respuesta:** 7.27%"
   ]
  },
  {
   "cell_type": "markdown",
   "metadata": {},
   "source": [
    "#### 3. Basados en la edad del más joven. ¿Que grupo tiene mayor probabilidad de comprar un seguro?\n",
    ">**Respuesta:** Grupo No.2 ; Jóvenes"
   ]
  },
  {
   "cell_type": "markdown",
   "metadata": {},
   "source": [
    "#### 4. ¿Que edad promedio tienen las personas dueñas de carros vieos y carros nuevos?\n",
    ">**Respuesta:** \n",
    ">>Carros Viejos: 41 <br>\n",
    ">>Carros Nuevos: 39"
   ]
  },
  {
   "cell_type": "markdown",
   "metadata": {},
   "source": [
    "#### 5. ¿Probabilidad de que alguien de edad k compre un seguro?; k = 20\n",
    ">**Respuesta:** La probabilidad que alguien de 20 años compre un seguro es de: 2.2%"
   ]
  },
  {
   "cell_type": "markdown",
   "metadata": {},
   "source": [
    "#### 6. ¿Que estado, en promedio, necesita menos cotizaciones?\n",
    ">**Respuesta:** SD    6.19\n"
   ]
  },
  {
   "cell_type": "markdown",
   "metadata": {},
   "source": [
    "#### 7. ¿Cuántas cotizaciones, previo la compra, realizan los consumidores del estado de Florida?\n",
    ">**Respuesta:** 4"
   ]
  },
  {
   "cell_type": "markdown",
   "metadata": {},
   "source": [
    "#### 8. ¿En qué tiempo prudente se realizan las cotizaciones?\n",
    ">**Respuesta:** 14:35"
   ]
  },
  {
   "cell_type": "markdown",
   "metadata": {},
   "source": [
    "#### 9. ¿Del total de carros que porcentaje tiene menos de k años?; k = 2\n",
    ">**Respuesta:**  19.27%"
   ]
  },
  {
   "cell_type": "markdown",
   "metadata": {},
   "source": [
    "#### 10. ¿Que edad necesita menos cotizaciones para comprar un seguro?\n",
    ">**Respuesta:** 17"
   ]
  }
 ],
 "metadata": {
  "kernelspec": {
   "display_name": "Python 3",
   "language": "python",
   "name": "python3"
  },
  "language_info": {
   "codemirror_mode": {
    "name": "ipython",
    "version": 3
   },
   "file_extension": ".py",
   "mimetype": "text/x-python",
   "name": "python",
   "nbconvert_exporter": "python",
   "pygments_lexer": "ipython3",
   "version": "3.5.1"
  }
 },
 "nbformat": 4,
 "nbformat_minor": 0
}
