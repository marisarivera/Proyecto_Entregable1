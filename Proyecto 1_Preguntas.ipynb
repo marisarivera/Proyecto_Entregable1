{
 "cells": [
  {
   "cell_type": "markdown",
   "metadata": {},
   "source": [
    "# Proyecto 1"
   ]
  },
  {
   "cell_type": "markdown",
   "metadata": {},
   "source": [
    "### Integrantes del Equipo\n",
    "\n",
    "1. Jose Guillen\n",
    "2. Alan Monterroso\n",
    "3. Rodolfo Puertas\n",
    "4. Vinicio Grazioso\n",
    "5. Carlos Fuentes\n",
    "6. Jose Ruano\n",
    "7. Marisa Rivera"
   ]
  },
  {
   "cell_type": "markdown",
   "metadata": {},
   "source": [
    "#### 1. ¿Qué características tienen los grupos a los que se les cotiza los seguros más baratos?"
   ]
  },
  {
   "cell_type": "markdown",
   "metadata": {},
   "source": [
    ">**Respuesta:** \n",
    ">![Pregunta1](%cd ~/Users/marisarivera/Desktop/Pregunta1.1.png)\n",
    ">![Pregunta1](%cd ~/Users/marisarivera/Desktop/Pregunta1.2.png)"
   ]
  },
  {
   "cell_type": "markdown",
   "metadata": {},
   "source": [
    "#### 2. ¿Qué tan probable es que se compre un seguro después de la k-ésima cotización?\n",
    ">**Respuesta:** 5.73%"
   ]
  },
  {
   "cell_type": "markdown",
   "metadata": {},
   "source": [
    "#### 3. Basados en la edad del más joven. ¿Que grupo tiene mayor probabilidad de comprar un seguro?\n",
    ">**Respuesta:** 2"
   ]
  },
  {
   "cell_type": "markdown",
   "metadata": {},
   "source": [
    "#### 4. ¿Que edad promedio tienen las personas dueñas de carros vieos y carros nuevos?\n",
    ">**Respuesta:** \n",
    ">>Carros Viejos: 41 <br>\n",
    ">>Carros Nuevos: 39"
   ]
  },
  {
   "cell_type": "markdown",
   "metadata": {},
   "source": [
    "#### 5. ¿Probabilidad de que alguien de edad k compre un seguro?; k = 20\n",
    ">**Respuesta:** La probabilidad que alguien de 20 años compre un seguro es de: 3.45%"
   ]
  },
  {
   "cell_type": "markdown",
   "metadata": {},
   "source": [
    "#### 6. ¿Que estado, en promedio, necesita menos cotizaciones?\n",
    ">**Respuesta:** \n",
    ">> AL    6.553547 <br>\n",
    ">>AR    6.666667 <br>\n",
    ">>CO    6.895198 <br>\n",
    ">>CT    6.824048 <br>\n",
    ">>DC    6.940741 <br>\n",
    ">>DE    6.869347 <br>\n",
    ">>FL    7.277439 <br>\n",
    ">>GA    6.930709 <br>\n",
    ">>IA    6.596517 <br>\n",
    ">>ID    6.865169 <br>\n",
    ">>IN    6.747133 <br>\n",
    ">>KS    6.501746 <br>\n",
    ">>KY    6.796117 <br>\n",
    ">>MD    6.736855 <br>\n",
    ">>ME    6.726014 <br>\n",
    ">>MO    6.912925 <br>\n",
    ">>MS    6.846743 <br>\n",
    ">>MT    6.985325 <br>\n",
    ">>ND    6.510471 <br>\n",
    ">>NE    6.369388 <br>\n",
    ">>NH    7.031690 <br>\n",
    ">>NM    6.790000 <br>\n",
    ">>NV    7.281677 <br>\n",
    ">>NY    6.707196 <br>\n",
    ">>OH    6.683223 <br>\n",
    ">>OK    6.811172 <br>\n",
    ">>OR    6.836661 <br>\n",
    ">>PA    6.777281 <br>\n",
    ">>RI    6.705011 <br>\n",
    ">>SD    6.195122 <br>\n",
    ">>TN    6.819518 <br>\n",
    ">>UT    7.050428 <br>\n",
    ">>WA    7.045594 <br>\n",
    ">>WI    6.530705 <br>\n",
    ">>WV    6.478205 <br>\n",
    ">>WY    7.006024 "
   ]
  },
  {
   "cell_type": "markdown",
   "metadata": {},
   "source": [
    "#### 7. ¿Cuántas cotizaciones, previo la compra, realizan los consumidores del estado de Florida?\n",
    ">**Respuesta:** \n",
    ">>0 <br>\n",
    ">>745 <br>\n",
    ">>998 <br>\n",
    ">>1309 <br>\n",
    ">>1849 <br>\n",
    ">>2491 <br>\n",
    ">>2819 <br>\n",
    ">>2344 <br>\n",
    ">>1381 <br>\n",
    ">>514 <br>\n",
    ">>143 "
   ]
  },
  {
   "cell_type": "markdown",
   "metadata": {},
   "source": [
    "#### 8. ¿En qué tiempo prudente se realizan las cotizaciones?\n",
    ">**Respuesta:** 14:35"
   ]
  },
  {
   "cell_type": "markdown",
   "metadata": {},
   "source": [
    "#### 9. ¿Del total de carros que porcentaje tiene menos de k años?\n",
    ">**Respuesta:**  <br>\n",
    "  >>Edad       Porcentaje <br>\n",
    ">>0      0             0.0% <br>\n",
    ">>1      1  0.872605595799% <br>\n",
    ">>2      2   11.6430088583% <br>\n",
    ">>3      3   19.2174659413% <br>\n",
    ">>4      4   25.2890271162% <br>\n",
    ">>5      5   31.4507800838% <br>\n",
    ">>6      6   36.3821666774% <br>\n",
    ">>7      7   43.0507975209% <br>\n",
    ">>8      8   50.0785420196% <br>\n",
    ">>9      9    56.760701632% <br>\n",
    ">>10    10   63.4075361256% <br>\n",
    ">>11    11   69.3152488767% <br>\n",
    ">>12    12   74.7527617479% <br>\n",
    ">>13    13   79.5799768207% <br> \n",
    ">>14    14   83.5826885873% <br>\n",
    ">>15    15   87.3445882669% <br>\n",
    ">>16    16    90.206824813% <br>\n",
    ">>17    17   92.4447838328% <br>\n",
    ">>18    18   94.1539183073% <br>\n",
    ">>19    19   95.3985650486% <br>\n",
    ">>20    20   96.5131852885% <br>\n",
    ">>21    21   97.2977035666% <br>\n",
    ">>22    22   97.8564417233% <br>\n",
    ">>23    23   98.2668143808% <br>\n",
    ">>24    24   98.6146540619% <br>\n",
    ">>25    25   98.8759096218% <br>\n",
    ">>26    26   99.0929712033% <br>\n",
    ">>27    27   99.2539635535% <br>\n",
    ">>28    28   99.3776766294% <br>\n",
    ">>29    29   99.4810965518% <br>\n",
    ">>..   ...              ... <br>\n",
    ">>56    56   99.9854189935% <br>\n",
    ">>57    57   99.9854189935% <br>\n",
    ">>58    58   99.9864712311% <br>\n",
    ">>59    59   99.9876737883% <br>\n",
    ">>60    60   99.9891769849% <br>\n",
    ">>61    61   99.9897782635% <br>\n",
    ">>62    62   99.9918827386% <br>\n",
    ">>63    63   99.9941375335% <br>\n",
    ">>64    64   99.9941375335% <br>\n",
    ">>65    65   99.9950394514% <br>\n",
    ">>66    66   99.9957910497% <br>\n",
    ">>67    67   99.9957910497% <br>\n",
    ">>68    68   99.9957910497% <br>\n",
    ">>69    69   99.9957910497% <br>\n",
    ">>70    70   99.9957910497% <br>\n",
    ">>71    71   99.9957910497% <br>\n",
    ">>72    72   99.9957910497% <br>\n",
    ">>73    73   99.9957910497% <br>\n",
    ">>74    74   99.9957910497% <br>\n",
    ">>75    75   99.9984968035% <br>\n",
    ">>76    76   99.9993987214% <br>\n",
    ">>77    77   99.9993987214% <br>\n",
    ">>78    78   99.9993987214% <br>\n",
    ">>79    79   99.9993987214% <br>\n",
    ">>80    80   99.9993987214% <br>\n",
    ">>81    81   99.9993987214% <br>\n",
    ">>82    82   99.9993987214% <br>\n",
    ">>83    83   99.9993987214% <br>\n",
    ">>84    84   99.9993987214% <br>\n",
    ">>85    85   99.9993987214%  "
   ]
  },
  {
   "cell_type": "markdown",
   "metadata": {},
   "source": [
    "#### 10. ¿Que edad necesita menos cotizaciones para comprar un seguro?\n",
    ">**Respuesta:** 75"
   ]
  }
 ],
 "metadata": {
  "kernelspec": {
   "display_name": "Python 3",
   "language": "python",
   "name": "python3"
  },
  "language_info": {
   "codemirror_mode": {
    "name": "ipython",
    "version": 3
   },
   "file_extension": ".py",
   "mimetype": "text/x-python",
   "name": "python",
   "nbconvert_exporter": "python",
   "pygments_lexer": "ipython3",
   "version": "3.5.1"
  }
 },
 "nbformat": 4,
 "nbformat_minor": 0
}
